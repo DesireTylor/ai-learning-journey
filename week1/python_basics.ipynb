{
 "cells": [
  {
   "cell_type": "markdown",
   "id": "46320fb8",
   "metadata": {},
   "source": [
    "# Week 1: Python Basics\n",
    "By Desire"
   ]
  },
  {
   "cell_type": "code",
   "execution_count": null,
   "id": "b8e3fe79",
   "metadata": {},
   "outputs": [],
   "source": [
    "# 1. Variables and Data Types\n",
    "x = 5\n",
    "name = 'Desire'\n",
    "print(x, name)"
   ]
  },
  {
   "cell_type": "code",
   "execution_count": null,
   "id": "f1349c0f",
   "metadata": {},
   "outputs": [],
   "source": [
    "# 2. Math Operations\n",
    "radius = 4\n",
    "area = 3.14 * radius**2\n",
    "print('Area:', area)"
   ]
  },
  {
   "cell_type": "code",
   "execution_count": null,
   "id": "c3af851b",
   "metadata": {},
   "outputs": [],
   "source": [
    "# 3. If Statement\n",
    "if x > 3:\n",
    "    print('x is greater than 3')"
   ]
  },
  {
   "cell_type": "code",
   "execution_count": null,
   "id": "003e1db3",
   "metadata": {},
   "outputs": [],
   "source": [
    "# 4. For Loop\n",
    "for i in range(5):\n",
    "    print('i:', i)"
   ]
  },
  {
   "cell_type": "code",
   "execution_count": null,
   "id": "7e808b50",
   "metadata": {},
   "outputs": [],
   "source": [
    "# 5. Function Definition\n",
    "def greet(name):\n",
    "    return f'Hello, {name}!'\n",
    "\n",
    "print(greet('Desire'))"
   ]
  },
  {
   "cell_type": "markdown",
   "id": "411f7f6a",
   "metadata": {},
   "source": [
    "✅ *Completed by Desire — Week 1 Python basics*"
   ]
  }
 ],
 "metadata": {
  "kernelspec": {
   "display_name": "Python 3",
   "name": "python3"
  }
 },
 "nbformat": 4,
 "nbformat_minor": 5
}
